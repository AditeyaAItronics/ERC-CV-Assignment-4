{
 "cells": [
  {
   "cell_type": "markdown",
   "metadata": {},
   "source": [
    "# Computer Vision Based Game\n",
    "\n",
    "Welcome to our computer vision-based game! In this game, enemy objects are falling from the top of the screen, and the player must use their hand to avoid these objects. The game leverages computer vision technology to track the player's hand movements in real-time.\n",
    "\n",
    "## Features\n",
    "\n",
    "- Real-time Hand Tracking: Uses computer vision to detect and track hand movements.\n",
    "- Interactive Gameplay: Avoid falling enemy objects using your hand.\n",
    "\n",
    "## Problem Statement: Enemy Dodging Game\n",
    "\n",
    "A player-controlled object is moved using hand movements. The objective is to dodge falling objects (blocks) that randomly appear on the screen. The game could rely on OpenCV for hand tracking, and falling objects are randomly generated.\n",
    "\n",
    "## Requirements\n",
    "- Python 3.x\n",
    "- OpenCV\n",
    "- Mediapipe"
   ]
  },
  {
   "cell_type": "markdown",
   "metadata": {},
   "source": [
    "# Solution"
   ]
  },
  {
   "cell_type": "code",
   "execution_count": 2,
   "metadata": {},
   "outputs": [],
   "source": [
    "## initialize libraries\n",
    "import cv2\n",
    "import mediapipe as mp\n",
    "import numpy as np\n",
    "import random\n",
    "import time\n"
   ]
  },
  {
   "cell_type": "code",
   "execution_count": 4,
   "metadata": {},
   "outputs": [],
   "source": [
    "# Initialize Mediapipe and OpenCV modules\n",
    "mp_hands = mp.solutions.hands\n",
    "mp_drawing = mp.solutions.drawing_utils\n",
    "\n",
    "# Constants\n",
    "WIDTH, HEIGHT = 640, 480  # Dimensions of the game window\n",
    "PLAYER_RADIUS = 30  # Radius of the player circle\n",
    "ENEMY_SIZE = 50  # Size of the falling enemy blocks\n",
    "ENEMY_SPEED = 5  # Speed of falling enemies\n",
    "FPS = 30  # Frames per second\n",
    "\n",
    "\n",
    "# Colors\n",
    "BLACK = (0, 0, 0)\n",
    "WHITE = (255, 255, 255)\n",
    "RED = (0, 0, 255)"
   ]
  },
  {
   "cell_type": "code",
   "execution_count": 6,
   "metadata": {},
   "outputs": [],
   "source": [
    "# Enemy class defintion to handle falling blocks\n",
    "class Enemy:\n",
    "    def __init__(self):\n",
    "        self.x = random.randint(0, WIDTH - ENEMY_SIZE)\n",
    "        self.y = 0\n",
    "        self.speed = ENEMY_SPEED\n",
    "\n",
    "    def move(self):\n",
    "        self.y += self.speed\n",
    "\n",
    "    def draw(self, frame):\n",
    "        cv2.rectangle(frame, (self.x, self.y), (self.x + ENEMY_SIZE, self.y + ENEMY_SIZE), RED, -1)\n",
    "\n",
    "    def off_screen(self):\n",
    "        return self.y > HEIGHT"
   ]
  },
  {
   "cell_type": "code",
   "execution_count": 7,
   "metadata": {},
   "outputs": [],
   "source": [
    "# Check for collision between player and enemy\n",
    "def check_collision(player_pos, enemy):\n",
    "    px, py = player_pos\n",
    "    if (px > enemy.x and px < enemy.x + ENEMY_SIZE) or (px + PLAYER_RADIUS > enemy.x and px - PLAYER_RADIUS < enemy.x + ENEMY_SIZE):\n",
    "        if py + PLAYER_RADIUS > enemy.y and py - PLAYER_RADIUS < enemy.y + ENEMY_SIZE:\n",
    "            return True\n",
    "    return False"
   ]
  },
  {
   "cell_type": "code",
   "execution_count": 8,
   "metadata": {},
   "outputs": [
    {
     "data": {
      "text/plain": [
       "True"
      ]
     },
     "execution_count": 8,
     "metadata": {},
     "output_type": "execute_result"
    }
   ],
   "source": [
    "# Main game loop\n",
    "cap = cv2.VideoCapture(0)\n",
    "cap.set(3, WIDTH)  # Set width of the video capture\n",
    "cap.set(4, HEIGHT)  # Set height of the video capture"
   ]
  },
  {
   "cell_type": "code",
   "execution_count": null,
   "metadata": {},
   "outputs": [],
   "source": [
    "with mp_hands.Hands(max_num_hands=1, min_detection_confidence=0.7, min_tracking_confidence=0.7) as hands:\n",
    "    enemies = []  # List to store enemies\n",
    "    score = 0  # Player's score\n",
    "    start_time = time.time()  # Start time to control enemy generation\n",
    "\n",
    "    while cap.isOpened():\n",
    "        # Read a frame from the video capture\n",
    "        success, frame = cap.read()\n",
    "        if not success:\n",
    "            break\n",
    "\n",
    "        # Flip the frame horizontally for a mirror effect\n",
    "        frame = cv2.flip(frame, 1)\n",
    "        # Convert the frame to RGB for Mediapipe processing\n",
    "        frame_rgb = cv2.cvtColor(frame, cv2.COLOR_BGR2RGB)\n",
    "        results = hands.process(frame_rgb)\n",
    "\n",
    "        # Default player position if no hand is detected\n",
    "        player_pos = (WIDTH // 2, HEIGHT - PLAYER_RADIUS * 2)\n",
    "\n",
    "        # If a hand is detected, update player position based on hand landmarks\n",
    "        if results.multi_hand_landmarks:\n",
    "            for hand_landmarks in results.multi_hand_landmarks:\n",
    "                # Draw the hand landmarks on the frame\n",
    "                mp_drawing.draw_landmarks(frame, hand_landmarks, mp_hands.HAND_CONNECTIONS)\n",
    "                # Update player position based on index finger tip position\n",
    "                player_pos = (int(hand_landmarks.landmark[mp_hands.HandLandmark.INDEX_FINGER_TIP].x * WIDTH),\n",
    "                              int(hand_landmarks.landmark[mp_hands.HandLandmark.INDEX_FINGER_TIP].y * HEIGHT))\n",
    "\n",
    "        # Create a new enemy every 2 seconds\n",
    "        if time.time() - start_time > 2:\n",
    "            enemies.append(Enemy())  # Add a new enemy to the list\n",
    "            start_time = time.time()  # Reset the start time\n",
    "\n",
    "        # Update each enemy's position and draw it on the frame\n",
    "        for enemy in enemies:\n",
    "            enemy.move()  # Move enemy down the screen\n",
    "            enemy.draw(frame)  # Draw enemy on the frame\n",
    "\n",
    "        # Remove enemies that go off screen and increment score for each removed enemy\n",
    "        enemies = [enemy for enemy in enemies if not enemy.off_screen() or (score := score + 1)]\n",
    "\n",
    "        # Check for collisions between player and each enemy\n",
    "        for enemy in enemies:\n",
    "            if check_collision(player_pos, enemy):\n",
    "                # If collision occurs, display \"Game Over\" and end the game\n",
    "                cv2.putText(frame, \"Game Over\", (WIDTH // 2 - 100, HEIGHT // 2), cv2.FONT_HERSHEY_SIMPLEX, 2, RED, 3)\n",
    "                cv2.imshow('Enemy Dodging Game', frame)\n",
    "                cv2.waitKey(3000)\n",
    "                cap.release()\n",
    "                cv2.destroyAllWindows()\n",
    "                exit()\n",
    "\n",
    "        # Draw the player as a white circle\n",
    "        cv2.circle(frame, player_pos, PLAYER_RADIUS, WHITE, -1)\n",
    "\n",
    "        # Display the current score\n",
    "        cv2.putText(frame, f'Score: {score}', (10, 40), cv2.FONT_HERSHEY_SIMPLEX, 1, WHITE, 2)\n",
    "\n",
    "        # Display the frame\n",
    "        cv2.imshow('Enemy Dodging Game', frame)\n",
    "        # If 'q' key is pressed, exit the game\n",
    "        if cv2.waitKey(1000 // FPS) & 0xFF == ord('q'):\n",
    "            break"
   ]
  },
  {
   "cell_type": "code",
   "execution_count": null,
   "metadata": {},
   "outputs": [],
   "source": [
    "# Release the video capture and close all OpenCV windows\n",
    "cap.release()\n",
    "cv2.destroyAllWindows()"
   ]
  }
 ],
 "metadata": {
  "kernelspec": {
   "display_name": "adi-bits-assignment",
   "language": "python",
   "name": "python3"
  },
  "language_info": {
   "codemirror_mode": {
    "name": "ipython",
    "version": 3
   },
   "file_extension": ".py",
   "mimetype": "text/x-python",
   "name": "python",
   "nbconvert_exporter": "python",
   "pygments_lexer": "ipython3",
   "version": "3.12.4"
  }
 },
 "nbformat": 4,
 "nbformat_minor": 2
}
